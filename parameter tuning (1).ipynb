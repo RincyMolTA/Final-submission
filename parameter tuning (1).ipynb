{
 "cells": [
  {
   "cell_type": "code",
   "execution_count": 2,
   "metadata": {},
   "outputs": [],
   "source": [
    "import pandas as pd\n",
    "import numpy as np\n",
    "from xgboost import XGBRegressor\n",
    "from sklearn.model_selection import train_test_split, GridSearchCV\n",
    "from sklearn.metrics import mean_squared_error, r2_score, mean_absolute_error\n",
    "from sklearn.preprocessing import FunctionTransformer, StandardScaler, OneHotEncoder\n",
    "from sklearn.compose import ColumnTransformer\n",
    "from sklearn.pipeline import Pipeline"
   ]
  },
  {
   "cell_type": "code",
   "execution_count": 3,
   "metadata": {},
   "outputs": [],
   "source": [
    "# Load the dataset\n",
    "data = pd.read_csv('cleaned_data.csv')\n"
   ]
  },
  {
   "cell_type": "code",
   "execution_count": 4,
   "metadata": {},
   "outputs": [],
   "source": [
    "# Define columns to log transform and scale\n",
    "columns_to_transform = ['Area', 'Production', 'Fertilizer', 'Pesticide']\n",
    "columns_to_scale = ['Crop_Year', 'Annual_Rainfall', 'Area', 'Production', 'Fertilizer', 'Pesticide']\n",
    "categorical_features = ['Crop', 'State', 'Season']\n",
    "\n",
    "# Separate features and target variable\n",
    "target_column = 'Yield'\n",
    "X = data.drop(target_column, axis=1)\n",
    "y = data[target_column]\n",
    "\n",
    "# Log transformer function\n",
    "log_transformer = FunctionTransformer(np.log1p, validate=True)\n",
    "\n",
    "# Define preprocessing steps\n",
    "preprocessor = ColumnTransformer(\n",
    "    transformers=[\n",
    "        ('log_and_scale', Pipeline(steps=[\n",
    "            ('log', log_transformer),\n",
    "            ('scale', StandardScaler())\n",
    "        ]), columns_to_transform),\n",
    "        ('scale_only', StandardScaler(), [col for col in columns_to_scale if col not in columns_to_transform]),\n",
    "        \n",
    "    \n",
    "        \n",
    "        ('cat', OneHotEncoder(sparse_output=False), categorical_features)\n",
    "    \n",
    "    \n",
    "    \n",
    "    ]\n",
    ")\n",
    "\n",
    "# Create the pipeline\n",
    "pipeline = Pipeline(steps=[('preprocessor', preprocessor),\n",
    "                           ('model', XGBRegressor())])\n"
   ]
  },
  {
   "cell_type": "code",
   "execution_count": 5,
   "metadata": {},
   "outputs": [],
   "source": [
    "\n",
    "\n",
    "\n",
    "\n",
    "# Split the dataset into training and testing sets\n",
    "X_train, X_test, y_train, y_test = train_test_split(X, y, test_size=0.2, random_state=42, shuffle=True)\n",
    "\n",
    "\n",
    "\n",
    "\n",
    "\n"
   ]
  },
  {
   "cell_type": "code",
   "execution_count": null,
   "metadata": {},
   "outputs": [],
   "source": []
  },
  {
   "cell_type": "code",
   "execution_count": 6,
   "metadata": {},
   "outputs": [
    {
     "name": "stdout",
     "output_type": "stream",
     "text": [
      "Best parameters found:  {'model__colsample_bytree': 0.9, 'model__gamma': 0.1, 'model__learning_rate': 0.2, 'model__max_depth': 5, 'model__n_estimators': 100, 'model__reg_alpha': 0, 'model__reg_lambda': 1.5, 'model__subsample': 0.7}\n"
     ]
    }
   ],
   "source": [
    "# Define parameter grid for GridSearchCV\n",
    "param_grid = {\n",
    "    'model__colsample_bytree': [0.7, 0.8, 0.9],\n",
    "    'model__gamma': [0.1, 0.3, 0.5],\n",
    "    'model__learning_rate': [0.01, 0.1, 0.2],\n",
    "    'model__max_depth': [3, 5, 7],\n",
    "    'model__n_estimators': [100, 200, 300],\n",
    "    'model__reg_alpha': [0, 0.1, 0.5],\n",
    "    'model__reg_lambda': [0.5, 1.0, 1.5],\n",
    "    'model__subsample': [0.7, 0.8, 0.9]\n",
    "}\n",
    "\n",
    "# Use GridSearchCV to find the best hyperparameters\n",
    "grid_search = GridSearchCV(pipeline, param_grid, cv=5, scoring='r2', n_jobs=-1)\n",
    "\n",
    "# Fit the model\n",
    "grid_search.fit(X_train, y_train)\n",
    "\n",
    "# Get the best parameters\n",
    "best_params = grid_search.best_params_\n",
    "print(\"Best parameters found: \", best_params)"
   ]
  },
  {
   "cell_type": "code",
   "execution_count": 7,
   "metadata": {},
   "outputs": [
    {
     "name": "stdout",
     "output_type": "stream",
     "text": [
      "Training R²: 0.9999529307841566\n",
      "Test R²: 0.9463286499455389\n",
      "MAE: 36.33320310525322\n",
      "MSE: 106454.95379035227\n",
      "RMSE: 326.2743535590137\n"
     ]
    }
   ],
   "source": [
    "# Predict on the test set with the best model\n",
    "y_pred = grid_search.best_estimator_.predict(X_test)\n",
    "\n",
    "# Evaluate the model\n",
    "train_r2 = grid_search.score(X_train, y_train)\n",
    "test_r2 = grid_search.score(X_test, y_test)\n",
    "mae = mean_absolute_error(y_test, y_pred)\n",
    "mse = mean_squared_error(y_test, y_pred)\n",
    "rmse = np.sqrt(mse)\n",
    "\n",
    "print(f\"Training R²: {train_r2}\")\n",
    "print(f\"Test R²: {test_r2}\")\n",
    "print(f\"MAE: {mae}\")\n",
    "print(f\"MSE: {mse}\")\n",
    "print(f\"RMSE: {rmse}\")\n"
   ]
  }
 ],
 "metadata": {
  "kernelspec": {
   "display_name": "Python 3",
   "language": "python",
   "name": "python3"
  },
  "language_info": {
   "codemirror_mode": {
    "name": "ipython",
    "version": 3
   },
   "file_extension": ".py",
   "mimetype": "text/x-python",
   "name": "python",
   "nbconvert_exporter": "python",
   "pygments_lexer": "ipython3",
   "version": "3.11.5"
  }
 },
 "nbformat": 4,
 "nbformat_minor": 2
}
